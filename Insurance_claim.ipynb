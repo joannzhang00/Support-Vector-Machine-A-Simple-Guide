{
 "cells": [
  {
   "cell_type": "code",
   "execution_count": null,
   "id": "f209bb91",
   "metadata": {},
   "outputs": [],
   "source": [
    "import pandas as pd\n",
    "import numpy as np\n",
    "import matplotlib.pyplot as plt\n",
    "import seaborn as sns\n",
    "%matplotlib inline\n",
    "\n",
    "from sklearn.model_selection import cross_val_score, train_test_split\n",
    "from sklearn.preprocessing import StandardScaler, MinMaxScaler\n",
    "from sklearn import metrics\n",
    "\n",
    "from sklearn.svm import SVC"
   ]
  },
  {
   "cell_type": "code",
   "execution_count": null,
   "id": "b402a8ab",
   "metadata": {},
   "outputs": [],
   "source": [
    "# expand rows and columns\n",
    "pd.set_option('display.max_rows', 500)\n",
    "pd.set_option('display.max_columns', 500)\n",
    "pd.set_option('display.width', 1000)"
   ]
  },
  {
   "cell_type": "code",
   "execution_count": null,
   "id": "5fdaa496",
   "metadata": {},
   "outputs": [],
   "source": [
    "df = pd.read_csv('insurance_claims.csv')"
   ]
  },
  {
   "cell_type": "code",
   "execution_count": null,
   "id": "b8839dc4",
   "metadata": {},
   "outputs": [],
   "source": [
    "# drop unnecessary columns\n",
    "df = df.drop(['months_as_customer', 'policy_number', 'policy_bind_date',\n",
    "             'policy_csl', 'insured_zip', 'insured_occupation', 'insured_hobbies',\n",
    "             'incident_date', 'incident_state', 'incident_city', 'incident_location',\n",
    "             'auto_make', 'auto_model', '_c39', 'property_damage', \n",
    "              'police_report_available', 'collision_type', 'authorities_contacted'], axis = 'columns')\n",
    "\n",
    "# change target variable \"fraud_reported\" from \"yes vs no\" to \"0 vs 1\"\n",
    "df = df.replace({'fraud_reported': {'Y': 1, 'N': 0}})\n",
    "\n",
    "df.head()"
   ]
  },
  {
   "cell_type": "code",
   "execution_count": null,
   "id": "050e4d02",
   "metadata": {},
   "outputs": [],
   "source": [
    "df.corr()\n",
    "# total_claim_amount vs injury_claim vs property_claim vs vehicle_claim 0.56~1"
   ]
  },
  {
   "cell_type": "code",
   "execution_count": null,
   "id": "a7243c50",
   "metadata": {},
   "outputs": [],
   "source": [
    "df['fraud_reported'].unique()"
   ]
  },
  {
   "cell_type": "code",
   "execution_count": null,
   "id": "a702f9ff",
   "metadata": {},
   "outputs": [],
   "source": [
    "# one-hot encoding for categorial variables\n",
    "\n",
    "# ['OH', 'IN', 'IL']\n",
    "# ['MALE', 'FEMALE']\n",
    "# ['MD', 'PhD', 'Associate', 'Masters', 'High School', 'College', 'JD']\n",
    "# ['husband', 'other-relative', 'own-child', 'unmarried', 'wife', 'not-in-family']\n",
    "# ['Single Vehicle Collision', 'Vehicle Theft', 'Multi-vehicle Collision', 'Parked Car']\n",
    "# ['Major Damage', 'Minor Damage', 'Total Loss', 'Trivial Damage']\n",
    "\n",
    "\n",
    "variables = ['policy_state', 'insured_sex', 'insured_education_level', 'insured_relationship',\n",
    "            'incident_type', 'incident_severity']\n",
    "\n",
    "for var in variables:\n",
    "    df[var] = df[var].astype('category')\n",
    "    df_num = pd.get_dummies(df, prefix_sep = '_', drop_first = True)"
   ]
  },
  {
   "cell_type": "code",
   "execution_count": null,
   "id": "aaa51fc1",
   "metadata": {},
   "outputs": [],
   "source": [
    "# split the train and validation data\n",
    "x = df_num.drop(['fraud_reported'], axis='columns')\n",
    "y = df_num['fraud_reported']\n",
    "X_train, X_val, y_train, y_val = train_test_split(x, y, test_size = .2, random_state = 1)"
   ]
  },
  {
   "cell_type": "code",
   "execution_count": null,
   "id": "e0cc5fe7",
   "metadata": {},
   "outputs": [],
   "source": [
    "# It is usually a good idea to scale the data for SVM training\n",
    "# Only scale the training set otherwise it'll be cheating\n",
    "\n",
    "# The transformation is given by:\n",
    "\n",
    "# X_std = (X - X.min(axis=0)) / (X.max(axis=0) - X.min(axis=0))\n",
    "# X_scaled = X_std * (max - min) + min\n",
    "# where min, max = feature_range.\n",
    "\n",
    "scaler = MinMaxScaler()\n",
    "scaler.fit(X_train)\n",
    "X_train = scaler.transform(X_train)\n",
    "\n",
    "X_val = scaler.transform(X_val)"
   ]
  },
  {
   "cell_type": "code",
   "execution_count": null,
   "id": "8d3bfd98",
   "metadata": {},
   "outputs": [],
   "source": [
    "# Linear kernel\n",
    "svc_linear = SVC(kernel='linear')\n",
    "svc_linear.fit(X_train,y_train)\n",
    "\n",
    "y_pred_l=svc_linear.predict(X_val)\n",
    "\n",
    "print('Accuracy Score:')\n",
    "print(metrics.accuracy_score(y_val,y_pred_l))\n",
    "print('F1 Score:')\n",
    "print(metrics.f1_score(y_val,y_pred_l))"
   ]
  },
  {
   "cell_type": "code",
   "execution_count": null,
   "id": "0e9bb60b",
   "metadata": {},
   "outputs": [],
   "source": [
    "# Polynomial kernel with degree\n",
    "svc_poly = SVC(kernel='poly', degree = 2)\n",
    "svc_poly.fit(X_train,y_train)\n",
    "\n",
    "y_pred_p=svc_poly.predict(X_val)\n",
    "\n",
    "print('Accuracy Score:')\n",
    "print(metrics.accuracy_score(y_val,y_pred_p))\n",
    "print('F1 Score:')\n",
    "print(metrics.f1_score(y_val,y_pred_p))"
   ]
  },
  {
   "cell_type": "code",
   "execution_count": null,
   "id": "c488b19a",
   "metadata": {},
   "outputs": [],
   "source": [
    "# RBF kernel with gamma\n",
    "# https://scikit-learn.org/stable/auto_examples/svm/plot_rbf_parameters.html#:~:text=Intuitively%2C%20the%20gamma%20parameter%20defines,the%20model%20as%20support%20vectors.\n",
    "svc_r = SVC(kernel='rbf')\n",
    "svc_r.fit(X_train,y_train)\n",
    "\n",
    "y_pred_r = svc_r.predict(X_val)\n",
    "\n",
    "print('Accuracy Score:')\n",
    "print(metrics.accuracy_score(y_val,y_pred_r))\n",
    "print('F1 Score:')\n",
    "print(metrics.f1_score(y_val,y_pred_r))"
   ]
  },
  {
   "cell_type": "code",
   "execution_count": null,
   "id": "cee20688",
   "metadata": {},
   "outputs": [],
   "source": [
    "# to be continued:\n",
    "# Grid search technique \n",
    "# using TSNE to plot the final result"
   ]
  }
 ],
 "metadata": {
  "kernelspec": {
   "display_name": "Python 3 (ipykernel)",
   "language": "python",
   "name": "python3"
  },
  "language_info": {
   "codemirror_mode": {
    "name": "ipython",
    "version": 3
   },
   "file_extension": ".py",
   "mimetype": "text/x-python",
   "name": "python",
   "nbconvert_exporter": "python",
   "pygments_lexer": "ipython3",
   "version": "3.9.7"
  }
 },
 "nbformat": 4,
 "nbformat_minor": 5
}
